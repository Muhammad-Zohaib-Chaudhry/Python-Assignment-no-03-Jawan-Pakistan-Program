{
 "cells": [
  {
   "cell_type": "code",
   "execution_count": 8,
   "id": "ca6837e8",
   "metadata": {},
   "outputs": [
    {
     "name": "stdout",
     "output_type": "stream",
     "text": [
      "Twinkle, twinkle, little star,\n",
      "       How I wonder what you are!\n",
      "              Up above the world so high,\n",
      "              Like a diamond in the sky.\n",
      "Twinkle, twinkle, little star,\n",
      "       How I wonder what you are!\n",
      "\n"
     ]
    }
   ],
   "source": [
    "'''\n",
    "1.\tWrite a Python program to print the following string in a specific format (see the output). \n",
    " \tTwinkle, twinkle, little star, \n",
    " \t       How I wonder what you are! \n",
    "                  Up above the world so high, \n",
    " \t              Like a diamond in the sky. \n",
    " \tTwinkle, twinkle, little star, \n",
    "           How I wonder what you are \n",
    "'''\n",
    "\n",
    "poem = [\"Twinkle, twinkle, little star,\\n\", \"       How I wonder what you are!\\n\", \"              Up above the world so high,\\n\", \"              Like a diamond in the sky.\\n\"]\n",
    "print(poem[0] + poem[1] + poem[2] + poem[3] + poem[0] + poem[1])"
   ]
  },
  {
   "cell_type": "code",
   "execution_count": null,
   "id": "698d9ffb",
   "metadata": {},
   "outputs": [],
   "source": []
  },
  {
   "cell_type": "code",
   "execution_count": 9,
   "id": "c7371c31",
   "metadata": {},
   "outputs": [
    {
     "name": "stdout",
     "output_type": "stream",
     "text": [
      "Python Version Number of Python Interpreter is:\n",
      "3.8.8 (default, Apr 13 2021, 15:08:03) [MSC v.1916 64 bit (AMD64)]\n"
     ]
    }
   ],
   "source": [
    "'''\n",
    "2.\tWrite a Python program to get the Python version you are using.\n",
    "'''\n",
    "\n",
    "import sys\n",
    "print(\"Python Version Number of Python Interpreter is:\\n\" + sys.version)"
   ]
  },
  {
   "cell_type": "code",
   "execution_count": null,
   "id": "acf06a1b",
   "metadata": {},
   "outputs": [],
   "source": []
  },
  {
   "cell_type": "code",
   "execution_count": 23,
   "id": "a89df26e",
   "metadata": {},
   "outputs": [
    {
     "name": "stdout",
     "output_type": "stream",
     "text": [
      "Current Date and Time is:\n",
      " 2021-10-24 04:49:55.388779\n"
     ]
    }
   ],
   "source": [
    "'''\n",
    "3. Write a Python program to display the current date and time.\n",
    "'''\n",
    "from datetime import datetime\n",
    "datetime = datetime.now()\n",
    "print(\"Current Date and Time is:\\n\", datetime)"
   ]
  },
  {
   "cell_type": "code",
   "execution_count": null,
   "id": "c0f722d3",
   "metadata": {},
   "outputs": [],
   "source": []
  },
  {
   "cell_type": "code",
   "execution_count": null,
   "id": "d2bfcebe",
   "metadata": {},
   "outputs": [],
   "source": []
  }
 ],
 "metadata": {
  "kernelspec": {
   "display_name": "Python 3",
   "language": "python",
   "name": "python3"
  },
  "language_info": {
   "codemirror_mode": {
    "name": "ipython",
    "version": 3
   },
   "file_extension": ".py",
   "mimetype": "text/x-python",
   "name": "python",
   "nbconvert_exporter": "python",
   "pygments_lexer": "ipython3",
   "version": "3.8.8"
  }
 },
 "nbformat": 4,
 "nbformat_minor": 5
}
